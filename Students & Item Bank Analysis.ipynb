{
 "cells": [
  {
   "cell_type": "markdown",
   "metadata": {},
   "source": [
    "# Students Data Analysis"
   ]
  },
  {
   "cell_type": "markdown",
   "metadata": {},
   "source": [
    "This Project was made to deliver insight on student's abilities and how they approach and answer certain tests, also the data provided from this study is meant to be used to calibrate an system for immitating students' behaviours to test an Adaptive learning lms using Computerized Adaptive Testing Algorithms"
   ]
  },
  {
   "cell_type": "markdown",
   "metadata": {},
   "source": [
    "## Importing Libraries & Files"
   ]
  },
  {
   "cell_type": "code",
   "execution_count": 8,
   "metadata": {},
   "outputs": [],
   "source": [
    "import warnings\n",
    "warnings.filterwarnings('ignore')\n",
    "import pandas as pd\n",
    "import numpy as np\n",
    "import matplotlib.pyplot as plt\n",
    "import seaborn as sns\n",
    "from  sklearn.metrics import accuracy_score,confusion_matrix\n",
    "import math\n",
    "from math import exp\n",
    "import plotly.express as px"
   ]
  },
  {
   "cell_type": "code",
   "execution_count": 9,
   "metadata": {},
   "outputs": [],
   "source": [
    "students = pd.read_csv('./Datasets/Final_Scores_EST_To_Upload.csv')"
   ]
  },
  {
   "cell_type": "code",
   "execution_count": 10,
   "metadata": {},
   "outputs": [],
   "source": [
    "item_bank = pd.read_csv('./Datasets/EST II Biology - March 2022 Working Copy.csv')"
   ]
  },
  {
   "cell_type": "markdown",
   "metadata": {},
   "source": [
    "## Students Ability Measurements"
   ]
  },
  {
   "cell_type": "markdown",
   "metadata": {},
   "source": [
    "### EDA"
   ]
  },
  {
   "cell_type": "markdown",
   "metadata": {},
   "source": [
    "    Deleting Unnecessary Columns"
   ]
  },
  {
   "cell_type": "code",
   "execution_count": 11,
   "metadata": {},
   "outputs": [
    {
     "data": {
      "text/html": [
       "<div>\n",
       "<style scoped>\n",
       "    .dataframe tbody tr th:only-of-type {\n",
       "        vertical-align: middle;\n",
       "    }\n",
       "\n",
       "    .dataframe tbody tr th {\n",
       "        vertical-align: top;\n",
       "    }\n",
       "\n",
       "    .dataframe thead th {\n",
       "        text-align: right;\n",
       "    }\n",
       "</style>\n",
       "<table border=\"1\" class=\"dataframe\">\n",
       "  <thead>\n",
       "    <tr style=\"text-align: right;\">\n",
       "      <th></th>\n",
       "      <th>Admission ID</th>\n",
       "      <th>English Name</th>\n",
       "      <th>F</th>\n",
       "      <th>Grade</th>\n",
       "      <th>EST I total</th>\n",
       "      <th>EST I - Literacy</th>\n",
       "      <th>EST I - Mathematics</th>\n",
       "      <th>EST II - Math 1</th>\n",
       "      <th>EST II - Biology</th>\n",
       "      <th>EST II - Math 2</th>\n",
       "      <th>EST I - Essay</th>\n",
       "    </tr>\n",
       "  </thead>\n",
       "  <tbody>\n",
       "    <tr>\n",
       "      <th>0</th>\n",
       "      <td>202208-006617</td>\n",
       "      <td>Donia Mohamed Abdelhamid Harfoush</td>\n",
       "      <td>F</td>\n",
       "      <td>11.0</td>\n",
       "      <td>1050.0</td>\n",
       "      <td>510.0</td>\n",
       "      <td>540.0</td>\n",
       "      <td>NaN</td>\n",
       "      <td>NaN</td>\n",
       "      <td>NaN</td>\n",
       "      <td>NaN</td>\n",
       "    </tr>\n",
       "    <tr>\n",
       "      <th>1</th>\n",
       "      <td>202208-006615</td>\n",
       "      <td>Rawan Walid Emad Abdelfattah</td>\n",
       "      <td>F</td>\n",
       "      <td>12.0</td>\n",
       "      <td>1170.0</td>\n",
       "      <td>520.0</td>\n",
       "      <td>650.0</td>\n",
       "      <td>NaN</td>\n",
       "      <td>NaN</td>\n",
       "      <td>NaN</td>\n",
       "      <td>NaN</td>\n",
       "    </tr>\n",
       "    <tr>\n",
       "      <th>2</th>\n",
       "      <td>202208-006614</td>\n",
       "      <td>Mohamed Hossam Mohamed Fathy Abdelmoneim Attia</td>\n",
       "      <td>M</td>\n",
       "      <td>11.0</td>\n",
       "      <td>1230.0</td>\n",
       "      <td>580.0</td>\n",
       "      <td>650.0</td>\n",
       "      <td>NaN</td>\n",
       "      <td>NaN</td>\n",
       "      <td>NaN</td>\n",
       "      <td>NaN</td>\n",
       "    </tr>\n",
       "    <tr>\n",
       "      <th>3</th>\n",
       "      <td>202208-006613</td>\n",
       "      <td>Salma Aly Mohamed Mohamed Abdo</td>\n",
       "      <td>F</td>\n",
       "      <td>12.0</td>\n",
       "      <td>1320.0</td>\n",
       "      <td>650.0</td>\n",
       "      <td>670.0</td>\n",
       "      <td>NaN</td>\n",
       "      <td>NaN</td>\n",
       "      <td>NaN</td>\n",
       "      <td>NaN</td>\n",
       "    </tr>\n",
       "    <tr>\n",
       "      <th>4</th>\n",
       "      <td>202208-006609</td>\n",
       "      <td>Farah Mohamed Elsayed Elsheribni Elsheribni</td>\n",
       "      <td>F</td>\n",
       "      <td>11.0</td>\n",
       "      <td>1040.0</td>\n",
       "      <td>540.0</td>\n",
       "      <td>500.0</td>\n",
       "      <td>NaN</td>\n",
       "      <td>NaN</td>\n",
       "      <td>NaN</td>\n",
       "      <td>NaN</td>\n",
       "    </tr>\n",
       "  </tbody>\n",
       "</table>\n",
       "</div>"
      ],
      "text/plain": [
       "    Admission ID                                    English Name  F  Grade  \\\n",
       "0  202208-006617               Donia Mohamed Abdelhamid Harfoush  F   11.0   \n",
       "1  202208-006615                    Rawan Walid Emad Abdelfattah  F   12.0   \n",
       "2  202208-006614  Mohamed Hossam Mohamed Fathy Abdelmoneim Attia  M   11.0   \n",
       "3  202208-006613                  Salma Aly Mohamed Mohamed Abdo  F   12.0   \n",
       "4  202208-006609     Farah Mohamed Elsayed Elsheribni Elsheribni  F   11.0   \n",
       "\n",
       "   EST I total  EST I - Literacy  EST I - Mathematics  EST II - Math 1  \\\n",
       "0       1050.0             510.0                540.0              NaN   \n",
       "1       1170.0             520.0                650.0              NaN   \n",
       "2       1230.0             580.0                650.0              NaN   \n",
       "3       1320.0             650.0                670.0              NaN   \n",
       "4       1040.0             540.0                500.0              NaN   \n",
       "\n",
       "   EST II - Biology  EST II - Math 2  EST I - Essay  \n",
       "0               NaN              NaN            NaN  \n",
       "1               NaN              NaN            NaN  \n",
       "2               NaN              NaN            NaN  \n",
       "3               NaN              NaN            NaN  \n",
       "4               NaN              NaN            NaN  "
      ]
     },
     "execution_count": 11,
     "metadata": {},
     "output_type": "execute_result"
    }
   ],
   "source": [
    "students = students.drop(columns=['Student ID', 'Passport', 'Nationality', 'Other Nationality'])\n",
    "students.head()"
   ]
  },
  {
   "cell_type": "markdown",
   "metadata": {},
   "source": [
    "    Renaming Columns"
   ]
  },
  {
   "cell_type": "code",
   "execution_count": 12,
   "metadata": {},
   "outputs": [],
   "source": [
    "students.columns = ['id', 'name', 'gender', 'grade', 'total_marks', 'literacy', 'mathematics','math1', 'biology', 'math2', 'essay']"
   ]
  },
  {
   "cell_type": "markdown",
   "metadata": {},
   "source": [
    "    Deleting non existant total grades"
   ]
  },
  {
   "cell_type": "code",
   "execution_count": 13,
   "metadata": {},
   "outputs": [],
   "source": [
    "students = students[students['total_marks'].notna()]"
   ]
  },
  {
   "cell_type": "markdown",
   "metadata": {},
   "source": [
    "    Transforming Grades to Percentages"
   ]
  },
  {
   "cell_type": "code",
   "execution_count": 14,
   "metadata": {},
   "outputs": [],
   "source": [
    "def transform_to_percentage():\n",
    "    students['percentage_total_marks'] = students['total_marks'].apply(lambda x: (x*100) / 1580)\n",
    "\n",
    "transform_to_percentage()"
   ]
  },
  {
   "cell_type": "markdown",
   "metadata": {},
   "source": [
    "### Classifying students based on abilities"
   ]
  },
  {
   "cell_type": "code",
   "execution_count": 15,
   "metadata": {},
   "outputs": [],
   "source": [
    "def classify_ability(total_mark):\n",
    "    \n",
    "    if total_mark <= 45:\n",
    "        return str('level 1')\n",
    "\n",
    "    if 45 < total_mark < 60:\n",
    "        return str('level 2')\n",
    "    \n",
    "    if 60<= total_mark < 70:\n",
    "        return str('level 3')\n",
    "\n",
    "    if 70 <= total_mark < 80:\n",
    "        return str('level 4')\n",
    "\n",
    "    if 80 <= total_mark < 85:\n",
    "        return str('level 5')\n",
    "\n",
    "    if 85 <= total_mark < 90:\n",
    "        return str('level 6')\n",
    "\n",
    "    if 90 <= total_mark < 95:\n",
    "        return str('level 7')\n",
    "\n",
    "    if 95 <= total_mark < 100:\n",
    "        return str('level 8')"
   ]
  },
  {
   "cell_type": "markdown",
   "metadata": {},
   "source": [
    "    Initializing new abilities column"
   ]
  },
  {
   "cell_type": "code",
   "execution_count": 16,
   "metadata": {},
   "outputs": [
    {
     "data": {
      "text/html": [
       "<div>\n",
       "<style scoped>\n",
       "    .dataframe tbody tr th:only-of-type {\n",
       "        vertical-align: middle;\n",
       "    }\n",
       "\n",
       "    .dataframe tbody tr th {\n",
       "        vertical-align: top;\n",
       "    }\n",
       "\n",
       "    .dataframe thead th {\n",
       "        text-align: right;\n",
       "    }\n",
       "</style>\n",
       "<table border=\"1\" class=\"dataframe\">\n",
       "  <thead>\n",
       "    <tr style=\"text-align: right;\">\n",
       "      <th></th>\n",
       "      <th>id</th>\n",
       "      <th>name</th>\n",
       "      <th>gender</th>\n",
       "      <th>grade</th>\n",
       "      <th>total_marks</th>\n",
       "      <th>literacy</th>\n",
       "      <th>mathematics</th>\n",
       "      <th>math1</th>\n",
       "      <th>biology</th>\n",
       "      <th>math2</th>\n",
       "      <th>essay</th>\n",
       "      <th>percentage_total_marks</th>\n",
       "      <th>ability</th>\n",
       "    </tr>\n",
       "  </thead>\n",
       "  <tbody>\n",
       "    <tr>\n",
       "      <th>0</th>\n",
       "      <td>202208-006617</td>\n",
       "      <td>Donia Mohamed Abdelhamid Harfoush</td>\n",
       "      <td>F</td>\n",
       "      <td>11.0</td>\n",
       "      <td>1050.0</td>\n",
       "      <td>510.0</td>\n",
       "      <td>540.0</td>\n",
       "      <td>NaN</td>\n",
       "      <td>NaN</td>\n",
       "      <td>NaN</td>\n",
       "      <td>NaN</td>\n",
       "      <td>66.455696</td>\n",
       "      <td>level 3</td>\n",
       "    </tr>\n",
       "    <tr>\n",
       "      <th>1</th>\n",
       "      <td>202208-006615</td>\n",
       "      <td>Rawan Walid Emad Abdelfattah</td>\n",
       "      <td>F</td>\n",
       "      <td>12.0</td>\n",
       "      <td>1170.0</td>\n",
       "      <td>520.0</td>\n",
       "      <td>650.0</td>\n",
       "      <td>NaN</td>\n",
       "      <td>NaN</td>\n",
       "      <td>NaN</td>\n",
       "      <td>NaN</td>\n",
       "      <td>74.050633</td>\n",
       "      <td>level 4</td>\n",
       "    </tr>\n",
       "    <tr>\n",
       "      <th>2</th>\n",
       "      <td>202208-006614</td>\n",
       "      <td>Mohamed Hossam Mohamed Fathy Abdelmoneim Attia</td>\n",
       "      <td>M</td>\n",
       "      <td>11.0</td>\n",
       "      <td>1230.0</td>\n",
       "      <td>580.0</td>\n",
       "      <td>650.0</td>\n",
       "      <td>NaN</td>\n",
       "      <td>NaN</td>\n",
       "      <td>NaN</td>\n",
       "      <td>NaN</td>\n",
       "      <td>77.848101</td>\n",
       "      <td>level 4</td>\n",
       "    </tr>\n",
       "    <tr>\n",
       "      <th>3</th>\n",
       "      <td>202208-006613</td>\n",
       "      <td>Salma Aly Mohamed Mohamed Abdo</td>\n",
       "      <td>F</td>\n",
       "      <td>12.0</td>\n",
       "      <td>1320.0</td>\n",
       "      <td>650.0</td>\n",
       "      <td>670.0</td>\n",
       "      <td>NaN</td>\n",
       "      <td>NaN</td>\n",
       "      <td>NaN</td>\n",
       "      <td>NaN</td>\n",
       "      <td>83.544304</td>\n",
       "      <td>level 5</td>\n",
       "    </tr>\n",
       "    <tr>\n",
       "      <th>4</th>\n",
       "      <td>202208-006609</td>\n",
       "      <td>Farah Mohamed Elsayed Elsheribni Elsheribni</td>\n",
       "      <td>F</td>\n",
       "      <td>11.0</td>\n",
       "      <td>1040.0</td>\n",
       "      <td>540.0</td>\n",
       "      <td>500.0</td>\n",
       "      <td>NaN</td>\n",
       "      <td>NaN</td>\n",
       "      <td>NaN</td>\n",
       "      <td>NaN</td>\n",
       "      <td>65.822785</td>\n",
       "      <td>level 3</td>\n",
       "    </tr>\n",
       "  </tbody>\n",
       "</table>\n",
       "</div>"
      ],
      "text/plain": [
       "              id                                            name gender  \\\n",
       "0  202208-006617               Donia Mohamed Abdelhamid Harfoush      F   \n",
       "1  202208-006615                    Rawan Walid Emad Abdelfattah      F   \n",
       "2  202208-006614  Mohamed Hossam Mohamed Fathy Abdelmoneim Attia      M   \n",
       "3  202208-006613                  Salma Aly Mohamed Mohamed Abdo      F   \n",
       "4  202208-006609     Farah Mohamed Elsayed Elsheribni Elsheribni      F   \n",
       "\n",
       "   grade  total_marks  literacy  mathematics  math1  biology  math2  essay  \\\n",
       "0   11.0       1050.0     510.0        540.0    NaN      NaN    NaN    NaN   \n",
       "1   12.0       1170.0     520.0        650.0    NaN      NaN    NaN    NaN   \n",
       "2   11.0       1230.0     580.0        650.0    NaN      NaN    NaN    NaN   \n",
       "3   12.0       1320.0     650.0        670.0    NaN      NaN    NaN    NaN   \n",
       "4   11.0       1040.0     540.0        500.0    NaN      NaN    NaN    NaN   \n",
       "\n",
       "   percentage_total_marks  ability  \n",
       "0               66.455696  level 3  \n",
       "1               74.050633  level 4  \n",
       "2               77.848101  level 4  \n",
       "3               83.544304  level 5  \n",
       "4               65.822785  level 3  "
      ]
     },
     "execution_count": 16,
     "metadata": {},
     "output_type": "execute_result"
    }
   ],
   "source": [
    "def probability_measurement():\n",
    "   students['ability'] = students['percentage_total_marks'].apply(lambda x: classify_ability(x))\n",
    "\n",
    "probability_measurement()\n",
    "\n",
    "students.head()"
   ]
  },
  {
   "cell_type": "markdown",
   "metadata": {},
   "source": [
    "    Calculacting values count for each ability"
   ]
  },
  {
   "cell_type": "code",
   "execution_count": 17,
   "metadata": {},
   "outputs": [],
   "source": [
    "students_count_per_ability = students['ability'].value_counts()"
   ]
  },
  {
   "cell_type": "code",
   "execution_count": 18,
   "metadata": {},
   "outputs": [
    {
     "data": {
      "text/plain": [
       "level 3    1613\n",
       "level 2    1342\n",
       "level 4     807\n",
       "level 5     210\n",
       "level 6      85\n",
       "level 7      26\n",
       "level 1       3\n",
       "level 8       2\n",
       "Name: ability, dtype: int64"
      ]
     },
     "execution_count": 18,
     "metadata": {},
     "output_type": "execute_result"
    }
   ],
   "source": [
    "students_count_per_ability"
   ]
  },
  {
   "cell_type": "markdown",
   "metadata": {},
   "source": [
    "    Calculating each ability value appearance in percentages"
   ]
  },
  {
   "cell_type": "code",
   "execution_count": 19,
   "metadata": {},
   "outputs": [
    {
     "data": {
      "text/plain": [
       "[0.07338551859099804,\n",
       " 32.827788649706456,\n",
       " 39.456947162426616,\n",
       " 19.740704500978474,\n",
       " 5.136986301369863,\n",
       " 2.079256360078278,\n",
       " 0.6360078277886497,\n",
       " 0.04892367906066536]"
      ]
     },
     "execution_count": 19,
     "metadata": {},
     "output_type": "execute_result"
    }
   ],
   "source": [
    "def ability_percentage(students_count_per_ability):\n",
    "    percentages = []\n",
    "\n",
    "    for index in students_count_per_ability.index.sort_values(ascending=True):\n",
    "        percentages.append(students_count_per_ability[index] * 100 / students_count_per_ability.sum())\n",
    "\n",
    "    return percentages\n",
    "\n",
    "ability_percentage(students_count_per_ability)"
   ]
  },
  {
   "cell_type": "markdown",
   "metadata": {},
   "source": [
    "### Visualization"
   ]
  },
  {
   "cell_type": "markdown",
   "metadata": {},
   "source": [
    "    Printing students' marks plot to number of students"
   ]
  },
  {
   "cell_type": "code",
   "execution_count": 20,
   "metadata": {},
   "outputs": [
    {
     "data": {
      "text/plain": [
       "<AxesSubplot:xlabel='percentage_total_marks', ylabel='Count'>"
      ]
     },
     "execution_count": 20,
     "metadata": {},
     "output_type": "execute_result"
    },
    {
     "data": {
      "image/png": "[encoded data removed]",
      "text/plain": [
       "<Figure size 864x576 with 1 Axes>"
      ]
     },
     "metadata": {},
     "output_type": "display_data"
    }
   ],
   "source": [
    "percentage_total_marks = students['percentage_total_marks'].describe()\n",
    "\n",
    "plt.style.use('seaborn-whitegrid')\n",
    "\n",
    "plt.subplots(figsize = (12, 8))\n",
    "\n",
    "plt.axvline(x = percentage_total_marks['mean'], linestyle='--', color='orange',label='Test results mean')\n",
    "\n",
    "sns.histplot(x = students['percentage_total_marks'] ,kde = True)"
   ]
  },
  {
   "cell_type": "markdown",
   "metadata": {},
   "source": [
    "    Abilities distribution percentages to students"
   ]
  },
  {
   "cell_type": "code",
   "execution_count": 21,
   "metadata": {},
   "outputs": [
    {
     "data": {
      "text/plain": [
       "<AxesSubplot:>"
      ]
     },
     "execution_count": 21,
     "metadata": {},
     "output_type": "execute_result"
    },
    {
     "data": {
      "image/png": "[encoded data removed]",
      "text/plain": [
       "<Figure size 432x288 with 1 Axes>"
      ]
     },
     "metadata": {},
     "output_type": "display_data"
    }
   ],
   "source": [
    "sns.lineplot(x=students['ability'].value_counts().index.sort_values(ascending=True), y=ability_percentage(students_count_per_ability))"
   ]
  },
  {
   "cell_type": "markdown",
   "metadata": {},
   "source": [
    "## Item Bank Analysis"
   ]
  },
  {
   "cell_type": "code",
   "execution_count": 22,
   "metadata": {},
   "outputs": [
    {
     "data": {
      "text/html": [
       "<div>\n",
       "<style scoped>\n",
       "    .dataframe tbody tr th:only-of-type {\n",
       "        vertical-align: middle;\n",
       "    }\n",
       "\n",
       "    .dataframe tbody tr th {\n",
       "        vertical-align: top;\n",
       "    }\n",
       "\n",
       "    .dataframe thead th {\n",
       "        text-align: right;\n",
       "    }\n",
       "</style>\n",
       "<table border=\"1\" class=\"dataframe\">\n",
       "  <thead>\n",
       "    <tr style=\"text-align: right;\">\n",
       "      <th></th>\n",
       "      <th>FIRSTNAME</th>\n",
       "      <th>SURNAME</th>\n",
       "      <th>USERNAME</th>\n",
       "      <th>STUDENT_TOTAL_SCORE</th>\n",
       "      <th>ASSESSMENT_MAX_SCORE</th>\n",
       "      <th>ASSESSMENT_STARTED</th>\n",
       "      <th>ASSESSMENT_ENDED</th>\n",
       "      <th>ITEM_1_SCORE</th>\n",
       "      <th>ITEM_1_MAX_SCORE</th>\n",
       "      <th>ITEM_2_SCORE</th>\n",
       "      <th>...</th>\n",
       "      <th>ITEM_76_SCORE</th>\n",
       "      <th>ITEM_76_MAX_SCORE</th>\n",
       "      <th>ITEM_77_SCORE</th>\n",
       "      <th>ITEM_77_MAX_SCORE</th>\n",
       "      <th>ITEM_78_SCORE</th>\n",
       "      <th>ITEM_78_MAX_SCORE</th>\n",
       "      <th>ITEM_79_SCORE</th>\n",
       "      <th>ITEM_79_MAX_SCORE</th>\n",
       "      <th>ITEM_80_SCORE</th>\n",
       "      <th>ITEM_80_MAX_SCORE</th>\n",
       "    </tr>\n",
       "  </thead>\n",
       "  <tbody>\n",
       "    <tr>\n",
       "      <th>0</th>\n",
       "      <td>Begad</td>\n",
       "      <td>Yasser Abdelrehim Hassan</td>\n",
       "      <td>dupes@live.com</td>\n",
       "      <td>37</td>\n",
       "      <td>80</td>\n",
       "      <td>2022-03-26T08:02:38Z</td>\n",
       "      <td>2022-03-26T09:04:47Z</td>\n",
       "      <td>0.0</td>\n",
       "      <td>1</td>\n",
       "      <td>1.0</td>\n",
       "      <td>...</td>\n",
       "      <td>0.0</td>\n",
       "      <td>1</td>\n",
       "      <td>0.0</td>\n",
       "      <td>1</td>\n",
       "      <td>1.0</td>\n",
       "      <td>1</td>\n",
       "      <td>1.0</td>\n",
       "      <td>1</td>\n",
       "      <td>0.0</td>\n",
       "      <td>1</td>\n",
       "    </tr>\n",
       "    <tr>\n",
       "      <th>1</th>\n",
       "      <td>Sofian</td>\n",
       "      <td>Mohamed Fahmi Mohamed Mohamed Fayed</td>\n",
       "      <td>sofiianfayed@gmail.com</td>\n",
       "      <td>20</td>\n",
       "      <td>80</td>\n",
       "      <td>2022-03-26T08:04:04Z</td>\n",
       "      <td>2022-03-26T09:04:46Z</td>\n",
       "      <td>1.0</td>\n",
       "      <td>1</td>\n",
       "      <td>0.0</td>\n",
       "      <td>...</td>\n",
       "      <td>1.0</td>\n",
       "      <td>1</td>\n",
       "      <td>0.0</td>\n",
       "      <td>1</td>\n",
       "      <td>0.0</td>\n",
       "      <td>1</td>\n",
       "      <td>0.0</td>\n",
       "      <td>1</td>\n",
       "      <td>0.0</td>\n",
       "      <td>1</td>\n",
       "    </tr>\n",
       "    <tr>\n",
       "      <th>2</th>\n",
       "      <td>Youssef</td>\n",
       "      <td>Walid Ragab Mohamed Ragab</td>\n",
       "      <td>walidbhit@hotmail.com</td>\n",
       "      <td>34</td>\n",
       "      <td>80</td>\n",
       "      <td>2022-03-26T08:07:18Z</td>\n",
       "      <td>2022-03-26T09:08:40Z</td>\n",
       "      <td>1.0</td>\n",
       "      <td>1</td>\n",
       "      <td>1.0</td>\n",
       "      <td>...</td>\n",
       "      <td>1.0</td>\n",
       "      <td>1</td>\n",
       "      <td>0.0</td>\n",
       "      <td>1</td>\n",
       "      <td>0.0</td>\n",
       "      <td>1</td>\n",
       "      <td>0.0</td>\n",
       "      <td>1</td>\n",
       "      <td>1.0</td>\n",
       "      <td>1</td>\n",
       "    </tr>\n",
       "    <tr>\n",
       "      <th>3</th>\n",
       "      <td>Youssef</td>\n",
       "      <td>Sherif Youssef Owida Hassan</td>\n",
       "      <td>youssefowida04@gmail.com</td>\n",
       "      <td>33</td>\n",
       "      <td>80</td>\n",
       "      <td>2022-03-26T08:12:27Z</td>\n",
       "      <td>2022-03-26T09:13:28Z</td>\n",
       "      <td>0.0</td>\n",
       "      <td>1</td>\n",
       "      <td>1.0</td>\n",
       "      <td>...</td>\n",
       "      <td>1.0</td>\n",
       "      <td>1</td>\n",
       "      <td>0.0</td>\n",
       "      <td>1</td>\n",
       "      <td>1.0</td>\n",
       "      <td>1</td>\n",
       "      <td>0.0</td>\n",
       "      <td>1</td>\n",
       "      <td>1.0</td>\n",
       "      <td>1</td>\n",
       "    </tr>\n",
       "    <tr>\n",
       "      <th>4</th>\n",
       "      <td>Rouaa</td>\n",
       "      <td>Hamdi Abdalla Ali</td>\n",
       "      <td>hamdyroaa1@gmail.com</td>\n",
       "      <td>28</td>\n",
       "      <td>80</td>\n",
       "      <td>2022-03-26T08:01:58Z</td>\n",
       "      <td>2022-03-26T09:04:23Z</td>\n",
       "      <td>1.0</td>\n",
       "      <td>1</td>\n",
       "      <td>0.0</td>\n",
       "      <td>...</td>\n",
       "      <td>0.0</td>\n",
       "      <td>1</td>\n",
       "      <td>0.0</td>\n",
       "      <td>1</td>\n",
       "      <td>0.0</td>\n",
       "      <td>1</td>\n",
       "      <td>0.0</td>\n",
       "      <td>1</td>\n",
       "      <td>1.0</td>\n",
       "      <td>1</td>\n",
       "    </tr>\n",
       "  </tbody>\n",
       "</table>\n",
       "<p>5 rows × 167 columns</p>\n",
       "</div>"
      ],
      "text/plain": [
       "  FIRSTNAME                              SURNAME                  USERNAME  \\\n",
       "0     Begad             Yasser Abdelrehim Hassan            dupes@live.com   \n",
       "1    Sofian  Mohamed Fahmi Mohamed Mohamed Fayed    sofiianfayed@gmail.com   \n",
       "2   Youssef            Walid Ragab Mohamed Ragab     walidbhit@hotmail.com   \n",
       "3   Youssef          Sherif Youssef Owida Hassan  youssefowida04@gmail.com   \n",
       "4     Rouaa                    Hamdi Abdalla Ali      hamdyroaa1@gmail.com   \n",
       "\n",
       "   STUDENT_TOTAL_SCORE  ASSESSMENT_MAX_SCORE    ASSESSMENT_STARTED  \\\n",
       "0                   37                    80  2022-03-26T08:02:38Z   \n",
       "1                   20                    80  2022-03-26T08:04:04Z   \n",
       "2                   34                    80  2022-03-26T08:07:18Z   \n",
       "3                   33                    80  2022-03-26T08:12:27Z   \n",
       "4                   28                    80  2022-03-26T08:01:58Z   \n",
       "\n",
       "       ASSESSMENT_ENDED  ITEM_1_SCORE  ITEM_1_MAX_SCORE  ITEM_2_SCORE  ...  \\\n",
       "0  2022-03-26T09:04:47Z           0.0                 1           1.0  ...   \n",
       "1  2022-03-26T09:04:46Z           1.0                 1           0.0  ...   \n",
       "2  2022-03-26T09:08:40Z           1.0                 1           1.0  ...   \n",
       "3  2022-03-26T09:13:28Z           0.0                 1           1.0  ...   \n",
       "4  2022-03-26T09:04:23Z           1.0                 1           0.0  ...   \n",
       "\n",
       "   ITEM_76_SCORE  ITEM_76_MAX_SCORE  ITEM_77_SCORE  ITEM_77_MAX_SCORE  \\\n",
       "0            0.0                  1            0.0                  1   \n",
       "1            1.0                  1            0.0                  1   \n",
       "2            1.0                  1            0.0                  1   \n",
       "3            1.0                  1            0.0                  1   \n",
       "4            0.0                  1            0.0                  1   \n",
       "\n",
       "   ITEM_78_SCORE  ITEM_78_MAX_SCORE  ITEM_79_SCORE  ITEM_79_MAX_SCORE  \\\n",
       "0            1.0                  1            1.0                  1   \n",
       "1            0.0                  1            0.0                  1   \n",
       "2            0.0                  1            0.0                  1   \n",
       "3            1.0                  1            0.0                  1   \n",
       "4            0.0                  1            0.0                  1   \n",
       "\n",
       "   ITEM_80_SCORE  ITEM_80_MAX_SCORE  \n",
       "0            0.0                  1  \n",
       "1            0.0                  1  \n",
       "2            1.0                  1  \n",
       "3            1.0                  1  \n",
       "4            1.0                  1  \n",
       "\n",
       "[5 rows x 167 columns]"
      ]
     },
     "execution_count": 22,
     "metadata": {},
     "output_type": "execute_result"
    }
   ],
   "source": [
    "item_bank.head()"
   ]
  },
  {
   "cell_type": "markdown",
   "metadata": {},
   "source": [
    "### EDA"
   ]
  },
  {
   "cell_type": "markdown",
   "metadata": {},
   "source": [
    "    Filtering Max Score Columns since scores are always 0s and 1s"
   ]
  },
  {
   "cell_type": "code",
   "execution_count": 23,
   "metadata": {},
   "outputs": [],
   "source": [
    "item_bank = item_bank[item_bank.columns.drop(list(item_bank.filter(regex=r'ITEM_[1-9][0-9]?_MAX_SCORE')))]"
   ]
  },
  {
   "cell_type": "markdown",
   "metadata": {},
   "source": [
    "    Cleaning Time related columns"
   ]
  },
  {
   "cell_type": "code",
   "execution_count": 24,
   "metadata": {},
   "outputs": [],
   "source": [
    "item_bank['ASSESSMENT_STARTED'] = item_bank[\"ASSESSMENT_STARTED\"].str[11:]\n",
    "item_bank['ASSESSMENT_ENDED'] = item_bank[\"ASSESSMENT_ENDED\"].str[11:]\n",
    "item_bank[\"ASSESSMENT_STARTED\"] = item_bank[\"ASSESSMENT_STARTED\"].str.replace(\"Z\",\"\")\n",
    "item_bank[\"ASSESSMENT_ENDED\"] = item_bank[\"ASSESSMENT_ENDED\"].str.replace(\"Z\",\"\")"
   ]
  },
  {
   "cell_type": "markdown",
   "metadata": {},
   "source": [
    "    All Columns names to be lower cases"
   ]
  },
  {
   "cell_type": "code",
   "execution_count": 25,
   "metadata": {},
   "outputs": [],
   "source": [
    "item_bank.columns = map(str.lower, item_bank.columns)\n",
    "item_bank = item_bank.sort_values(by = 'student_total_score')\n",
    "item_bank = item_bank.drop(columns=['assessment_max_score'])"
   ]
  },
  {
   "cell_type": "markdown",
   "metadata": {},
   "source": [
    "    Transform Grading to Percentage Values"
   ]
  },
  {
   "cell_type": "code",
   "execution_count": 26,
   "metadata": {},
   "outputs": [],
   "source": [
    "def transform_to_percentage():\n",
    "    item_bank['student_total_score_percentage'] = item_bank['student_total_score'].apply(lambda x: (x*100) / 75)\n",
    "\n",
    "transform_to_percentage()"
   ]
  },
  {
   "cell_type": "markdown",
   "metadata": {},
   "source": [
    "    Assigning Abilities"
   ]
  },
  {
   "cell_type": "code",
   "execution_count": 27,
   "metadata": {},
   "outputs": [],
   "source": [
    "def assign_student_ability(student_total_score_percentage: int):\n",
    "\n",
    "    \n",
    "    if student_total_score_percentage <= 20:\n",
    "        return -5\n",
    "    \n",
    "    elif 20 < student_total_score_percentage < 40:\n",
    "        return -2\n",
    "\n",
    "    elif 40 <= student_total_score_percentage < 60:\n",
    "        return 0\n",
    "    \n",
    "    elif 60 <= student_total_score_percentage < 80:\n",
    "        return 2    \n",
    "\n",
    "    else:\n",
    "        return 5\n",
    "\n",
    "item_bank['student_ability'] = item_bank['student_total_score_percentage'].apply(lambda student_total_score_percentage: assign_student_ability(student_total_score_percentage))\n"
   ]
  },
  {
   "cell_type": "markdown",
   "metadata": {},
   "source": [
    "### Measuring an Item's characteristic curve (ICC)"
   ]
  },
  {
   "cell_type": "markdown",
   "metadata": {},
   "source": [
    "    Calculating Difficulty for each Item by calculating how each question was handled with students and calculating the mean"
   ]
  },
  {
   "cell_type": "code",
   "execution_count": 28,
   "metadata": {},
   "outputs": [
    {
     "name": "stdout",
     "output_type": "stream",
     "text": [
      "[0.5216201423097975, 0.44986301369863013, 0.43852908891328213, 0.3351618211738892, 0.7016967706622879, 0.2314004376367615, 0.23958333333333334, 0.2591982427237781, 0.535675082327113, 0.45673603504928806, 0.34318555008210183, 0.43969298245614036, 0.31599123767798465, 0.30010952902519167, 0.6363636363636364, 0.2839168490153173, 0.5, 0.4103126714207351, 0.3033461327482172, 0.40777230432402845, 0.2804610318331504, 0.2602965403624382, 0.23940561364887178, 0.11281489594742607, 0.7396061269146609, 0.6284931506849315, 0.2501368363437329, 0.3167123287671233, 0.3322386425834702, 0.3930921052631579, 0.4723590585659551, 0.36383561643835616, 0.3925438596491228, 0.45668859649122806, 0.36308871851040525, 0.3183561643835616, 0.22252747252747251, 0.2678375411635565, 0.2149122807017544, 0.4731359649122807, 0.29489291598023065, 0.1630971993410214, 0.17233809001097694, 0.18221734357848518, 0.2630422844590884, 0.2508232711306257, 0.2068019747668678, 0.42073505211190343, 0.33881578947368424, 0.2906593406593407, 0.31359649122807015, 0.30098684210526316, 0.16657534246575342, 0.3086216364634816, 0.43318729463307776, 0.33571036752605593, 0.48410087719298245, 0.16666666666666666, 0.4064906490649065, 0.3156164383561644, 0.13995609220636662, 0.18166849615806804, 0.18815139879319803, 0.21232123212321233, 0.5211190345584202, 0.47506849315068495, 0.2389041095890411, 0.11800219538968167, 0.12390350877192982, 0.19319429198682767, 0.34923245614035087, 0.2565789473684211, 0.33424807903402853, 0.16383561643835617, 0.25, 0.35545803620405925, 0.17097306212204508, 0.3118811881188119, 0.2679162072767365, 0.2921038100496963] ['item_1_score', 'item_2_score', 'item_3_score', 'item_4_score', 'item_5_score', 'item_6_score', 'item_7_score', 'item_8_score', 'item_9_score', 'item_10_score', 'item_11_score', 'item_12_score', 'item_13_score', 'item_14_score', 'item_15_score', 'item_16_score', 'item_17_score', 'item_18_score', 'item_19_score', 'item_20_score', 'item_21_score', 'item_22_score', 'item_23_score', 'item_24_score', 'item_25_score', 'item_26_score', 'item_27_score', 'item_28_score', 'item_29_score', 'item_30_score', 'item_31_score', 'item_32_score', 'item_33_score', 'item_34_score', 'item_35_score', 'item_36_score', 'item_37_score', 'item_38_score', 'item_39_score', 'item_40_score', 'item_41_score', 'item_42_score', 'item_43_score', 'item_44_score', 'item_45_score', 'item_46_score', 'item_47_score', 'item_48_score', 'item_49_score', 'item_50_score', 'item_51_score', 'item_52_score', 'item_53_score', 'item_54_score', 'item_55_score', 'item_56_score', 'item_57_score', 'item_58_score', 'item_59_score', 'item_60_score', 'item_61_score', 'item_62_score', 'item_63_score', 'item_64_score', 'item_65_score', 'item_66_score', 'item_67_score', 'item_68_score', 'item_69_score', 'item_70_score', 'item_71_score', 'item_72_score', 'item_73_score', 'item_74_score', 'item_75_score', 'item_76_score', 'item_77_score', 'item_78_score', 'item_79_score', 'item_80_score']\n"
     ]
    }
   ],
   "source": [
    "items_mean_score_list = []\n",
    "items_mean_name_list = []\n",
    "\n",
    "def check_items_mean(item):\n",
    "    item_score = item_bank[item].describe()\n",
    "    x = item_score['mean']\n",
    "    items_mean_name_list.append(item)\n",
    "    items_mean_score_list.append(x)\n",
    "    # print (item ,x)\n",
    "\n",
    "for x in range(1, 81):\n",
    "    item = 'item_{}_score'.format(x)\n",
    "    check_items_mean(item)\n",
    "\n",
    "print(items_mean_score_list, items_mean_name_list)"
   ]
  },
  {
   "cell_type": "markdown",
   "metadata": {},
   "source": [
    "    Initializing new Quesitons Datafram to hold Difficulty Information for further functionalities "
   ]
  },
  {
   "cell_type": "code",
   "execution_count": 29,
   "metadata": {},
   "outputs": [
    {
     "data": {
      "text/html": [
       "<div>\n",
       "<style scoped>\n",
       "    .dataframe tbody tr th:only-of-type {\n",
       "        vertical-align: middle;\n",
       "    }\n",
       "\n",
       "    .dataframe tbody tr th {\n",
       "        vertical-align: top;\n",
       "    }\n",
       "\n",
       "    .dataframe thead th {\n",
       "        text-align: right;\n",
       "    }\n",
       "</style>\n",
       "<table border=\"1\" class=\"dataframe\">\n",
       "  <thead>\n",
       "    <tr style=\"text-align: right;\">\n",
       "      <th></th>\n",
       "      <th>Item Name</th>\n",
       "      <th>Difficulty</th>\n",
       "    </tr>\n",
       "  </thead>\n",
       "  <tbody>\n",
       "    <tr>\n",
       "      <th>0</th>\n",
       "      <td>item_1_score</td>\n",
       "      <td>0.521620</td>\n",
       "    </tr>\n",
       "    <tr>\n",
       "      <th>1</th>\n",
       "      <td>item_2_score</td>\n",
       "      <td>0.449863</td>\n",
       "    </tr>\n",
       "    <tr>\n",
       "      <th>2</th>\n",
       "      <td>item_3_score</td>\n",
       "      <td>0.438529</td>\n",
       "    </tr>\n",
       "    <tr>\n",
       "      <th>3</th>\n",
       "      <td>item_4_score</td>\n",
       "      <td>0.335162</td>\n",
       "    </tr>\n",
       "    <tr>\n",
       "      <th>4</th>\n",
       "      <td>item_5_score</td>\n",
       "      <td>0.701697</td>\n",
       "    </tr>\n",
       "  </tbody>\n",
       "</table>\n",
       "</div>"
      ],
      "text/plain": [
       "      Item Name  Difficulty\n",
       "0  item_1_score    0.521620\n",
       "1  item_2_score    0.449863\n",
       "2  item_3_score    0.438529\n",
       "3  item_4_score    0.335162\n",
       "4  item_5_score    0.701697"
      ]
     },
     "execution_count": 29,
     "metadata": {},
     "output_type": "execute_result"
    }
   ],
   "source": [
    "questions_df = pd.DataFrame(list(zip(items_mean_name_list, items_mean_score_list)),\n",
    "               columns =['Item Name', 'Difficulty'])\n",
    "\n",
    "questions_df.head()"
   ]
  },
  {
   "cell_type": "markdown",
   "metadata": {},
   "source": [
    "    Initializing new Students Dataframe to assign new items columns to hold probability measurements rather than data about how the students answered the questions"
   ]
  },
  {
   "cell_type": "code",
   "execution_count": 30,
   "metadata": {},
   "outputs": [
    {
     "data": {
      "text/html": [
       "<div>\n",
       "<style scoped>\n",
       "    .dataframe tbody tr th:only-of-type {\n",
       "        vertical-align: middle;\n",
       "    }\n",
       "\n",
       "    .dataframe tbody tr th {\n",
       "        vertical-align: top;\n",
       "    }\n",
       "\n",
       "    .dataframe thead th {\n",
       "        text-align: right;\n",
       "    }\n",
       "</style>\n",
       "<table border=\"1\" class=\"dataframe\">\n",
       "  <thead>\n",
       "    <tr style=\"text-align: right;\">\n",
       "      <th></th>\n",
       "      <th>firstname</th>\n",
       "      <th>surname</th>\n",
       "      <th>student_total_score_percentage</th>\n",
       "    </tr>\n",
       "  </thead>\n",
       "  <tbody>\n",
       "    <tr>\n",
       "      <th>1082</th>\n",
       "      <td>Nanci</td>\n",
       "      <td>Ahmed Mohamed Sameh</td>\n",
       "      <td>9.333333</td>\n",
       "    </tr>\n",
       "    <tr>\n",
       "      <th>591</th>\n",
       "      <td>Mohamed</td>\n",
       "      <td>Fady Abdou El Basyouni</td>\n",
       "      <td>9.333333</td>\n",
       "    </tr>\n",
       "    <tr>\n",
       "      <th>1499</th>\n",
       "      <td>Bavly</td>\n",
       "      <td>Awad Faragallah Rizkalla</td>\n",
       "      <td>10.666667</td>\n",
       "    </tr>\n",
       "    <tr>\n",
       "      <th>363</th>\n",
       "      <td>Malek</td>\n",
       "      <td>Sobhe Abdul Diam</td>\n",
       "      <td>12.000000</td>\n",
       "    </tr>\n",
       "    <tr>\n",
       "      <th>326</th>\n",
       "      <td>Hady</td>\n",
       "      <td>Wadie Samy</td>\n",
       "      <td>12.000000</td>\n",
       "    </tr>\n",
       "  </tbody>\n",
       "</table>\n",
       "</div>"
      ],
      "text/plain": [
       "     firstname                   surname  student_total_score_percentage\n",
       "1082     Nanci       Ahmed Mohamed Sameh                        9.333333\n",
       "591    Mohamed    Fady Abdou El Basyouni                        9.333333\n",
       "1499     Bavly  Awad Faragallah Rizkalla                       10.666667\n",
       "363      Malek          Sobhe Abdul Diam                       12.000000\n",
       "326       Hady                Wadie Samy                       12.000000"
      ]
     },
     "execution_count": 30,
     "metadata": {},
     "output_type": "execute_result"
    }
   ],
   "source": [
    "students_grades_df = item_bank.copy(deep = True)\n",
    "students_grades_df = students_grades_df[['firstname', 'surname', 'student_total_score_percentage']]\n",
    "students_grades_df.head()"
   ]
  },
  {
   "cell_type": "code",
   "execution_count": 31,
   "metadata": {},
   "outputs": [],
   "source": [
    "# def add_top_column(df, top_col, inplace=False):\n",
    "#     if not inplace:\n",
    "#         df = df.copy()\n",
    "    \n",
    "#     df.columns = pd.MultiIndex.from_product([[top_col], df.columns])\n",
    "#     return df\n",
    "\n",
    "# new_df = add_top_column(students_grades_df, \"new column\")\n",
    "# new_df.head()\n"
   ]
  },
  {
   "cell_type": "markdown",
   "metadata": {},
   "source": [
    "    Filling new Students Dataframe with empty columns from questions list"
   ]
  },
  {
   "cell_type": "code",
   "execution_count": 32,
   "metadata": {},
   "outputs": [],
   "source": [
    "students_grades_df = pd.concat([students_grades_df, pd.DataFrame(columns=items_mean_name_list)])"
   ]
  },
  {
   "cell_type": "markdown",
   "metadata": {},
   "source": [
    "    Measuring the probability of answering questions for each student with each question regarding each student's ability and each question's difficulty"
   ]
  },
  {
   "cell_type": "code",
   "execution_count": 33,
   "metadata": {},
   "outputs": [
    {
     "data": {
      "text/html": [
       "<div>\n",
       "<style scoped>\n",
       "    .dataframe tbody tr th:only-of-type {\n",
       "        vertical-align: middle;\n",
       "    }\n",
       "\n",
       "    .dataframe tbody tr th {\n",
       "        vertical-align: top;\n",
       "    }\n",
       "\n",
       "    .dataframe thead th {\n",
       "        text-align: right;\n",
       "    }\n",
       "</style>\n",
       "<table border=\"1\" class=\"dataframe\">\n",
       "  <thead>\n",
       "    <tr style=\"text-align: right;\">\n",
       "      <th></th>\n",
       "      <th>firstname</th>\n",
       "      <th>surname</th>\n",
       "      <th>student_total_score_percentage</th>\n",
       "      <th>item_1_score</th>\n",
       "      <th>item_2_score</th>\n",
       "      <th>item_3_score</th>\n",
       "      <th>item_4_score</th>\n",
       "      <th>item_5_score</th>\n",
       "      <th>item_6_score</th>\n",
       "      <th>item_7_score</th>\n",
       "      <th>...</th>\n",
       "      <th>item_71_score</th>\n",
       "      <th>item_72_score</th>\n",
       "      <th>item_73_score</th>\n",
       "      <th>item_74_score</th>\n",
       "      <th>item_75_score</th>\n",
       "      <th>item_76_score</th>\n",
       "      <th>item_77_score</th>\n",
       "      <th>item_78_score</th>\n",
       "      <th>item_79_score</th>\n",
       "      <th>item_80_score</th>\n",
       "    </tr>\n",
       "  </thead>\n",
       "  <tbody>\n",
       "    <tr>\n",
       "      <th>1082</th>\n",
       "      <td>Nanci</td>\n",
       "      <td>Ahmed Mohamed Sameh</td>\n",
       "      <td>9.333333</td>\n",
       "      <td>0.133723</td>\n",
       "      <td>0.183333</td>\n",
       "      <td>0.191230</td>\n",
       "      <td>0.263896</td>\n",
       "      <td>0.012737</td>\n",
       "      <td>0.337753</td>\n",
       "      <td>0.331904</td>\n",
       "      <td>...</td>\n",
       "      <td>0.253943</td>\n",
       "      <td>0.319767</td>\n",
       "      <td>0.264543</td>\n",
       "      <td>0.386154</td>\n",
       "      <td>0.324463</td>\n",
       "      <td>0.249544</td>\n",
       "      <td>0.381034</td>\n",
       "      <td>0.280401</td>\n",
       "      <td>0.311680</td>\n",
       "      <td>0.294455</td>\n",
       "    </tr>\n",
       "    <tr>\n",
       "      <th>591</th>\n",
       "      <td>Mohamed</td>\n",
       "      <td>Fady Abdou El Basyouni</td>\n",
       "      <td>9.333333</td>\n",
       "      <td>0.133723</td>\n",
       "      <td>0.183333</td>\n",
       "      <td>0.191230</td>\n",
       "      <td>0.263896</td>\n",
       "      <td>0.012737</td>\n",
       "      <td>0.337753</td>\n",
       "      <td>0.331904</td>\n",
       "      <td>...</td>\n",
       "      <td>0.253943</td>\n",
       "      <td>0.319767</td>\n",
       "      <td>0.264543</td>\n",
       "      <td>0.386154</td>\n",
       "      <td>0.324463</td>\n",
       "      <td>0.249544</td>\n",
       "      <td>0.381034</td>\n",
       "      <td>0.280401</td>\n",
       "      <td>0.311680</td>\n",
       "      <td>0.294455</td>\n",
       "    </tr>\n",
       "    <tr>\n",
       "      <th>1499</th>\n",
       "      <td>Bavly</td>\n",
       "      <td>Awad Faragallah Rizkalla</td>\n",
       "      <td>10.666667</td>\n",
       "      <td>0.142888</td>\n",
       "      <td>0.192624</td>\n",
       "      <td>0.200539</td>\n",
       "      <td>0.273343</td>\n",
       "      <td>0.021499</td>\n",
       "      <td>0.347290</td>\n",
       "      <td>0.341436</td>\n",
       "      <td>...</td>\n",
       "      <td>0.263374</td>\n",
       "      <td>0.329287</td>\n",
       "      <td>0.273991</td>\n",
       "      <td>0.395723</td>\n",
       "      <td>0.333988</td>\n",
       "      <td>0.258968</td>\n",
       "      <td>0.390600</td>\n",
       "      <td>0.289873</td>\n",
       "      <td>0.321192</td>\n",
       "      <td>0.303946</td>\n",
       "    </tr>\n",
       "    <tr>\n",
       "      <th>363</th>\n",
       "      <td>Malek</td>\n",
       "      <td>Sobhe Abdul Diam</td>\n",
       "      <td>12.000000</td>\n",
       "      <td>0.152078</td>\n",
       "      <td>0.201937</td>\n",
       "      <td>0.209869</td>\n",
       "      <td>0.282805</td>\n",
       "      <td>0.030294</td>\n",
       "      <td>0.356835</td>\n",
       "      <td>0.350976</td>\n",
       "      <td>...</td>\n",
       "      <td>0.272820</td>\n",
       "      <td>0.338817</td>\n",
       "      <td>0.283454</td>\n",
       "      <td>0.405296</td>\n",
       "      <td>0.343522</td>\n",
       "      <td>0.268408</td>\n",
       "      <td>0.400171</td>\n",
       "      <td>0.299357</td>\n",
       "      <td>0.330713</td>\n",
       "      <td>0.313448</td>\n",
       "    </tr>\n",
       "    <tr>\n",
       "      <th>326</th>\n",
       "      <td>Hady</td>\n",
       "      <td>Wadie Samy</td>\n",
       "      <td>12.000000</td>\n",
       "      <td>0.152078</td>\n",
       "      <td>0.201937</td>\n",
       "      <td>0.209869</td>\n",
       "      <td>0.282805</td>\n",
       "      <td>0.030294</td>\n",
       "      <td>0.356835</td>\n",
       "      <td>0.350976</td>\n",
       "      <td>...</td>\n",
       "      <td>0.272820</td>\n",
       "      <td>0.338817</td>\n",
       "      <td>0.283454</td>\n",
       "      <td>0.405296</td>\n",
       "      <td>0.343522</td>\n",
       "      <td>0.268408</td>\n",
       "      <td>0.400171</td>\n",
       "      <td>0.299357</td>\n",
       "      <td>0.330713</td>\n",
       "      <td>0.313448</td>\n",
       "    </tr>\n",
       "  </tbody>\n",
       "</table>\n",
       "<p>5 rows × 83 columns</p>\n",
       "</div>"
      ],
      "text/plain": [
       "     firstname                   surname  student_total_score_percentage  \\\n",
       "1082     Nanci       Ahmed Mohamed Sameh                        9.333333   \n",
       "591    Mohamed    Fady Abdou El Basyouni                        9.333333   \n",
       "1499     Bavly  Awad Faragallah Rizkalla                       10.666667   \n",
       "363      Malek          Sobhe Abdul Diam                       12.000000   \n",
       "326       Hady                Wadie Samy                       12.000000   \n",
       "\n",
       "      item_1_score  item_2_score  item_3_score  item_4_score  item_5_score  \\\n",
       "1082      0.133723      0.183333      0.191230      0.263896      0.012737   \n",
       "591       0.133723      0.183333      0.191230      0.263896      0.012737   \n",
       "1499      0.142888      0.192624      0.200539      0.273343      0.021499   \n",
       "363       0.152078      0.201937      0.209869      0.282805      0.030294   \n",
       "326       0.152078      0.201937      0.209869      0.282805      0.030294   \n",
       "\n",
       "      item_6_score  item_7_score  ...  item_71_score  item_72_score  \\\n",
       "1082      0.337753      0.331904  ...       0.253943       0.319767   \n",
       "591       0.337753      0.331904  ...       0.253943       0.319767   \n",
       "1499      0.347290      0.341436  ...       0.263374       0.329287   \n",
       "363       0.356835      0.350976  ...       0.272820       0.338817   \n",
       "326       0.356835      0.350976  ...       0.272820       0.338817   \n",
       "\n",
       "      item_73_score  item_74_score  item_75_score  item_76_score  \\\n",
       "1082       0.264543       0.386154       0.324463       0.249544   \n",
       "591        0.264543       0.386154       0.324463       0.249544   \n",
       "1499       0.273991       0.395723       0.333988       0.258968   \n",
       "363        0.283454       0.405296       0.343522       0.268408   \n",
       "326        0.283454       0.405296       0.343522       0.268408   \n",
       "\n",
       "      item_77_score  item_78_score  item_79_score  item_80_score  \n",
       "1082       0.381034       0.280401       0.311680       0.294455  \n",
       "591        0.381034       0.280401       0.311680       0.294455  \n",
       "1499       0.390600       0.289873       0.321192       0.303946  \n",
       "363        0.400171       0.299357       0.330713       0.313448  \n",
       "326        0.400171       0.299357       0.330713       0.313448  \n",
       "\n",
       "[5 rows x 83 columns]"
      ]
     },
     "execution_count": 33,
     "metadata": {},
     "output_type": "execute_result"
    }
   ],
   "source": [
    "def prob_measurement(x, y):\n",
    "    expression = (x/100) - y\n",
    "    probability = (exp(expression))/(1+exp(expression))\n",
    "    probability = probability -0.348\n",
    "    probability = probability/0.348\n",
    "    return probability\n",
    "    \n",
    "def question_answering_probability(students_grades_df, questions_df, column_name):\n",
    "    \n",
    "    column_value = float(questions_df.loc[questions_df['Item Name'] == column_name]['Difficulty'].values)\n",
    "    students_grades_df[column_name] = students_grades_df['student_total_score_percentage'].apply(lambda x: prob_measurement(x, column_value))\n",
    "\n",
    "question_answering_probability(students_grades_df, questions_df, 'item_1_score')\n",
    "\n",
    "for x in range(1, 81):\n",
    "    item = 'item_{}_score'.format(x)\n",
    "    question_answering_probability(students_grades_df, questions_df, item)\n",
    "\n",
    "students_grades_df.head()\n"
   ]
  },
  {
   "cell_type": "code",
   "execution_count": null,
   "metadata": {},
   "outputs": [],
   "source": [
    "# fig = px.line(students_grades_df, x=\"student_total_score_percentage\", y=\"item_1_score\")\n",
    "# fig.show()"
   ]
  },
  {
   "cell_type": "markdown",
   "metadata": {},
   "source": [
    "### Visualizating Result"
   ]
  },
  {
   "cell_type": "markdown",
   "metadata": {},
   "source": [
    "    Each question's mean visualization"
   ]
  },
  {
   "cell_type": "code",
   "execution_count": null,
   "metadata": {},
   "outputs": [],
   "source": [
    "item_3_score = item_bank['item_3_score'].describe()\n",
    "\n",
    "plt.style.use('seaborn-whitegrid')\n",
    "\n",
    "plt.subplots(figsize = (12, 8))\n",
    "\n",
    "plt.axvline(x = item_3_score['mean'], linestyle='--', color='orange',label='Test results mean')\n",
    "\n",
    "sns.histplot(x = item_bank['item_3_score'] ,kde = True)\n",
    "\n",
    "print(item_3_score['mean'])"
   ]
  },
  {
   "cell_type": "code",
   "execution_count": null,
   "metadata": {},
   "outputs": [],
   "source": [
    "plt.figure(figsize=(15, 8))\n",
    "\n",
    "sns.pointplot(data=item_bank, x='student_total_score', y='item_3_score',hue='student_total_score')\n",
    "plt.legend('', ncol=6, loc='upper left')"
   ]
  },
  {
   "cell_type": "code",
   "execution_count": null,
   "metadata": {},
   "outputs": [],
   "source": [
    "plt.figure(figsize=(15, 8))\n",
    "\n",
    "sns.pointplot(data=item_bank, x='student_total_score', y='item_24_score',hue='student_total_score')\n",
    "plt.legend('', ncol=6, loc='upper left')"
   ]
  },
  {
   "cell_type": "code",
   "execution_count": null,
   "metadata": {},
   "outputs": [],
   "source": [
    "plt.figure(figsize=(15, 8))\n",
    "\n",
    "sns.pointplot(data=item_bank, x='student_total_score', y='item_3_score')"
   ]
  },
  {
   "cell_type": "code",
   "execution_count": null,
   "metadata": {},
   "outputs": [],
   "source": [
    "plt.figure(figsize=(15, 8))\n",
    "\n",
    "sns.lineplot(data=item_bank, x='student_total_score', y='item_3_score')"
   ]
  },
  {
   "cell_type": "code",
   "execution_count": null,
   "metadata": {},
   "outputs": [],
   "source": [
    "plt.figure(figsize=(15, 8))\n",
    "\n",
    "sns.lineplot(data=item_bank, x='student_total_score', y='item_24_score')"
   ]
  },
  {
   "cell_type": "markdown",
   "metadata": {},
   "source": [
    "### Measuring an Item's characteristic curve (ICC)"
   ]
  },
  {
   "cell_type": "code",
   "execution_count": null,
   "metadata": {},
   "outputs": [],
   "source": []
  }
 ],
 "metadata": {
  "kernelspec": {
   "display_name": "Python 3.9.12 ('ai-env')",
   "language": "python",
   "name": "python3"
  },
  "language_info": {
   "codemirror_mode": {
    "name": "ipython",
    "version": 3
   },
   "file_extension": ".py",
   "mimetype": "text/x-python",
   "name": "python",
   "nbconvert_exporter": "python",
   "pygments_lexer": "ipython3",
   "version": "3.9.12"
  },
  "orig_nbformat": 4,
  "vscode": {
   "interpreter": {
    "hash": "8365970708f4c9f6fbab140fc5965a1172232d3b86402a05f22825a2ca8545dd"
   }
  }
 },
 "nbformat": 4,
 "nbformat_minor": 2
}
